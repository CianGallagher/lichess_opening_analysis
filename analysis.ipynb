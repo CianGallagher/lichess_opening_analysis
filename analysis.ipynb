{
 "cells": [
  {
   "cell_type": "markdown",
   "metadata": {},
   "source": [
    "Lichess Analysis"
   ]
  },
  {
   "cell_type": "code",
   "execution_count": 5,
   "metadata": {},
   "outputs": [
    {
     "name": "stdout",
     "output_type": "stream",
     "text": [
      "0-1\n",
      "['Event', 'Site', 'Date', 'Round', 'White', 'Black', 'Result', 'UTCDate', 'UTCTime', 'WhiteElo', 'BlackElo', 'WhiteRatingDiff', 'BlackRatingDiff', 'Variant', 'TimeControl', 'ECO', 'Opening', 'Termination']\n",
      "Queen's Pawn Game: London System\n",
      "LooseChessticals Won\n"
     ]
    }
   ],
   "source": [
    "import chess.pgn\n",
    "\n",
    "# PGN file downloaded from lichess profile\n",
    "my_file = 'lichess_GallyBear_2024-06-15.pgn'\n",
    "\n",
    "# Open the PGN file in read mode\n",
    "with open(my_file, 'r') as f:\n",
    "    # Read the first game from the PGN file using .read_game function.\n",
    "    game = chess.pgn.read_game(f)\n",
    "\n",
    "# Initialize an empty list to store headers\n",
    "header_list = []\n",
    "\n",
    "# Loop through each header in the game's headers\n",
    "for key in game.headers:\n",
    "    # Append the header key to the header_list\n",
    "    header_list.append(key)\n",
    "\n",
    "# Extract the opening used from the game headers\n",
    "opening = game.headers.get(\"Opening\", \"Unknown Opening\")\n",
    "\n",
    "# Extract the result from the game headers\n",
    "result = game.headers.get(\"Result\", \"Unknown Result\")\n",
    "\n",
    "# Extract the players from the game headers\n",
    "white_player = game.headers.get(\"White\", \"Player Unknown\")\n",
    "black_player = game.headers.get(\"Black\", \"Player Unknown\")\n",
    "\n",
    "# If else chain to display if 'GallyBear' won/lost/draw etc.\n",
    "\n",
    "print(result)\n",
    "if result == '1-0':\n",
    "    result = white_player + ' Won'\n",
    "elif result == '1-1':\n",
    "    result = 'Draw Game'\n",
    "else: \n",
    "    result = black_player + ' Won'\n",
    "\n",
    "\n",
    "print(header_list)\n",
    "print(opening)\n",
    "print(result)"
   ]
  }
 ],
 "metadata": {
  "kernelspec": {
   "display_name": "base",
   "language": "python",
   "name": "python3"
  },
  "language_info": {
   "codemirror_mode": {
    "name": "ipython",
    "version": 3
   },
   "file_extension": ".py",
   "mimetype": "text/x-python",
   "name": "python",
   "nbconvert_exporter": "python",
   "pygments_lexer": "ipython3",
   "version": "3.11.5"
  }
 },
 "nbformat": 4,
 "nbformat_minor": 2
}
