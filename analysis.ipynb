{
 "cells": [
  {
   "cell_type": "markdown",
   "metadata": {},
   "source": [
    "Lichess Analysis"
   ]
  },
  {
   "cell_type": "code",
   "execution_count": 4,
   "metadata": {},
   "outputs": [
    {
     "name": "stdout",
     "output_type": "stream",
     "text": [
      "['Event', 'Site', 'Date', 'Round', 'White', 'Black', 'Result', 'UTCDate', 'UTCTime', 'WhiteElo', 'BlackElo', 'WhiteRatingDiff', 'BlackRatingDiff', 'Variant', 'TimeControl', 'ECO', 'Opening', 'Termination']\n"
     ]
    }
   ],
   "source": [
    "import chess.pgn\n",
    "\n",
    "# PGN file downloaded from lichess profile\n",
    "my_file = 'lichess_GallyBear_2024-06-15.pgn'\n",
    "\n",
    "# Open the PGN file in read mode\n",
    "with open(my_file, 'r') as f:\n",
    "    # Read the first game from the PGN file\n",
    "    game = chess.pgn.read_game(f)\n",
    "\n",
    "# Initialize an empty list to store headers\n",
    "header_list = []\n",
    "\n",
    "# Loop through each header in the game's headers\n",
    "for key in game.headers:\n",
    "    # Append the header key to the header_list\n",
    "    header_list.append(key)\n",
    "\n",
    "# Print the list of header keys\n",
    "print(header_list)"
   ]
  }
 ],
 "metadata": {
  "kernelspec": {
   "display_name": "base",
   "language": "python",
   "name": "python3"
  },
  "language_info": {
   "codemirror_mode": {
    "name": "ipython",
    "version": 3
   },
   "file_extension": ".py",
   "mimetype": "text/x-python",
   "name": "python",
   "nbconvert_exporter": "python",
   "pygments_lexer": "ipython3",
   "version": "3.11.5"
  }
 },
 "nbformat": 4,
 "nbformat_minor": 2
}
