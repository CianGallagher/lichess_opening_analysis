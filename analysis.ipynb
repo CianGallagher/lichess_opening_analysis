{
 "cells": [
  {
   "cell_type": "markdown",
   "metadata": {},
   "source": [
    "Lichess Analysis"
   ]
  },
  {
   "cell_type": "code",
   "execution_count": 11,
   "metadata": {},
   "outputs": [
    {
     "name": "stdout",
     "output_type": "stream",
     "text": [
      "0-1\n",
      "['Event', 'Site', 'Date', 'Round', 'White', 'Black', 'Result', 'UTCDate', 'UTCTime', 'WhiteElo', 'BlackElo', 'WhiteRatingDiff', 'BlackRatingDiff', 'Variant', 'TimeControl', 'ECO', 'Opening', 'Termination']\n",
      "Queen's Pawn Game: London System\n",
      "LooseChessticals Won\n",
      "1. d4 Nf6 2. Bf4 d5 3. Nf3 c5 4. e3 Qb6 5. Qc1 Nc6 6. c3 cxd4 7. exd4 Bf5 8. Nbd2 e6 9. Ne5 Nxe5 10. Bxe5 Be7 11. Nf3 O-O 12. Qd2 Ne4 13. Qc1 h6 14. Bd3 Bg5 15. Qc2 Rac8 16. h4 Bf6 17. Nd2 Nxd2 18. Bxf5 Bxe5 19. dxe5 Ne4 20. Bxe4 dxe4 21. Qxe4 Qxb2 22. O-O Rxc3 23. Rfb1 Qd2 24. Qxb7 Rc2 25. Qxa7 Qe2 26. Qe3 Rxa2 27. Qxe2 Rxe2 28. Re1 Rxe1+ 29. Rxe1 Rd8 30. g3 Kh7 31. Kg2 Kg6 32. Re2 Rd5\n",
      "[Event \"Rated bullet game\"]\n",
      "[Site \"https://lichess.org/oiexGr0h\"]\n",
      "[Date \"2024.06.15\"]\n",
      "[Round \"?\"]\n",
      "[White \"GallyBear\"]\n",
      "[Black \"LooseChessticals\"]\n",
      "[Result \"0-1\"]\n",
      "[UTCDate \"2024.06.15\"]\n",
      "[UTCTime \"11:03:56\"]\n",
      "[WhiteElo \"1256\"]\n",
      "[BlackElo \"1240\"]\n",
      "[WhiteRatingDiff \"-6\"]\n",
      "[BlackRatingDiff \"+6\"]\n",
      "[Variant \"Standard\"]\n",
      "[TimeControl \"120+1\"]\n",
      "[ECO \"D02\"]\n",
      "[Opening \"Queen's Pawn Game: London System\"]\n",
      "[Termination \"Time forfeit\"]\n",
      "\n",
      "1. d4 Nf6 2. Bf4 d5 3. Nf3 c5 4. e3 Qb6 5. Qc1 Nc6 6. c3 cxd4 7. exd4 Bf5 8. Nbd2 e6 9. Ne5 Nxe5 10. Bxe5 Be7 11. Nf3 O-O 12. Qd2 Ne4 13. Qc1 h6 14. Bd3 Bg5 15. Qc2 Rac8 16. h4 Bf6 17. Nd2 Nxd2 18. Bxf5 Bxe5 19. dxe5 Ne4 20. Bxe4 dxe4 21. Qxe4 Qxb2 22. O-O Rxc3 23. Rfb1 Qd2 24. Qxb7 Rc2 25. Qxa7 Qe2 26. Qe3 Rxa2 27. Qxe2 Rxe2 28. Re1 Rxe1+ 29. Rxe1 Rd8 30. g3 Kh7 31. Kg2 Kg6 32. Re2 Rd5 0-1\n"
     ]
    }
   ],
   "source": [
    "import chess.pgn\n",
    "\n",
    "# PGN file downloaded from lichess profile\n",
    "my_file = 'lichess_GallyBear_2024-06-15.pgn'\n",
    "\n",
    "# Open the PGN file in read mode\n",
    "with open(my_file, 'r') as f:\n",
    "    # Read the first game from the PGN file using .read_game function.\n",
    "    game = chess.pgn.read_game(f)\n",
    "\n",
    "# Initialise png_text using mainline_moves function.\n",
    "png_text = str(game.mainline_moves())\n",
    "\n",
    "# Initialise an empty list to store headers\n",
    "header_list = []\n",
    "\n",
    "# Loop through each header in the game's headers\n",
    "for key in game.headers:\n",
    "    # Append the header key to the header_list\n",
    "    header_list.append(key)\n",
    "\n",
    "# Extract the opening used from the game headers\n",
    "opening = game.headers.get(\"Opening\", \"Unknown Opening\")\n",
    "\n",
    "# Extract the result from the game headers\n",
    "result = game.headers.get(\"Result\", \"Unknown Result\")\n",
    "\n",
    "# Extract the players from the game headers\n",
    "white_player = game.headers.get(\"White\", \"Player Unknown\")\n",
    "black_player = game.headers.get(\"Black\", \"Player Unknown\")\n",
    "\n",
    "# If else chain to display if 'GallyBear' won/lost/draw etc.\n",
    "print(result)\n",
    "if result == '1-0':\n",
    "    result = white_player + ' Won'\n",
    "elif result == '1-1':\n",
    "    result = 'Draw Game'\n",
    "else: \n",
    "    result = black_player + ' Won'\n",
    "\n",
    "\n",
    "print(header_list)\n",
    "print(opening)\n",
    "print(result)\n",
    "print(png_text)\n",
    "print(game)"
   ]
  }
 ],
 "metadata": {
  "kernelspec": {
   "display_name": "base",
   "language": "python",
   "name": "python3"
  },
  "language_info": {
   "codemirror_mode": {
    "name": "ipython",
    "version": 3
   },
   "file_extension": ".py",
   "mimetype": "text/x-python",
   "name": "python",
   "nbconvert_exporter": "python",
   "pygments_lexer": "ipython3",
   "version": "3.11.5"
  }
 },
 "nbformat": 4,
 "nbformat_minor": 2
}
