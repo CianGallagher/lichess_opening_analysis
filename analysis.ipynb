{
 "cells": [
  {
   "cell_type": "markdown",
   "metadata": {},
   "source": [
    "Lichess Analysis"
   ]
  },
  {
   "cell_type": "code",
   "execution_count": 14,
   "metadata": {},
   "outputs": [
    {
     "data": {
      "text/plain": [
       "['Event',\n",
       " 'Site',\n",
       " 'Date',\n",
       " 'Round',\n",
       " 'White',\n",
       " 'Black',\n",
       " 'Result',\n",
       " 'UTCDate',\n",
       " 'UTCTime',\n",
       " 'WhiteElo',\n",
       " 'BlackElo',\n",
       " 'WhiteRatingDiff',\n",
       " 'BlackRatingDiff',\n",
       " 'Variant',\n",
       " 'TimeControl',\n",
       " 'ECO',\n",
       " 'Opening',\n",
       " 'Termination']"
      ]
     },
     "execution_count": 14,
     "metadata": {},
     "output_type": "execute_result"
    }
   ],
   "source": [
    "import chess.pgn\n",
    "\n",
    "filepath = 'lichess_GallyBear_2024-06-15.pgn'\n",
    "\n",
    "with open(filepath) as f:\n",
    "    game = chess.pgn.read_game(f)\n",
    "\n",
    "header_list = []\n",
    "\n",
    "for key in game.headers:\n",
    "    header_list.append(key)\n",
    "\n",
    "header_list"
   ]
  }
 ],
 "metadata": {
  "kernelspec": {
   "display_name": "base",
   "language": "python",
   "name": "python3"
  },
  "language_info": {
   "codemirror_mode": {
    "name": "ipython",
    "version": 3
   },
   "file_extension": ".py",
   "mimetype": "text/x-python",
   "name": "python",
   "nbconvert_exporter": "python",
   "pygments_lexer": "ipython3",
   "version": "3.11.5"
  }
 },
 "nbformat": 4,
 "nbformat_minor": 2
}
